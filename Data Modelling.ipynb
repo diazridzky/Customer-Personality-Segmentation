{
 "cells": [
  {
   "cell_type": "code",
   "execution_count": 1,
   "id": "f851dfc9",
   "metadata": {},
   "outputs": [],
   "source": [
    "import pandas as pd\n",
    "import matplotlib.pyplot as plt\n",
    "import seaborn as sns\n",
    "from sklearn.preprocessing import MinMaxScaler\n",
    "from sklearn.cluster import KMeans  "
   ]
  },
  {
   "cell_type": "code",
   "execution_count": 2,
   "id": "e15f3244",
   "metadata": {},
   "outputs": [],
   "source": [
    "df = pd.read_csv('Cleaned.csv', index_col=0)"
   ]
  },
  {
   "cell_type": "code",
   "execution_count": 3,
   "id": "cb38abb8",
   "metadata": {},
   "outputs": [
    {
     "data": {
      "text/html": [
       "<div>\n",
       "<style scoped>\n",
       "    .dataframe tbody tr th:only-of-type {\n",
       "        vertical-align: middle;\n",
       "    }\n",
       "\n",
       "    .dataframe tbody tr th {\n",
       "        vertical-align: top;\n",
       "    }\n",
       "\n",
       "    .dataframe thead th {\n",
       "        text-align: right;\n",
       "    }\n",
       "</style>\n",
       "<table border=\"1\" class=\"dataframe\">\n",
       "  <thead>\n",
       "    <tr style=\"text-align: right;\">\n",
       "      <th></th>\n",
       "      <th>Education</th>\n",
       "      <th>Marital_Status</th>\n",
       "      <th>Income</th>\n",
       "      <th>Recency</th>\n",
       "      <th>MntWines</th>\n",
       "      <th>MntFruits</th>\n",
       "      <th>MntMeatProducts</th>\n",
       "      <th>MntFishProducts</th>\n",
       "      <th>MntSweetProducts</th>\n",
       "      <th>MntGoldProds</th>\n",
       "      <th>...</th>\n",
       "      <th>AcceptedCmp2</th>\n",
       "      <th>Complain</th>\n",
       "      <th>Response</th>\n",
       "      <th>Age</th>\n",
       "      <th>Amount_Total</th>\n",
       "      <th>Total_Purchases</th>\n",
       "      <th>Children</th>\n",
       "      <th>Family_Size</th>\n",
       "      <th>Total_AcceptedCmp</th>\n",
       "      <th>Days_Active</th>\n",
       "    </tr>\n",
       "  </thead>\n",
       "  <tbody>\n",
       "    <tr>\n",
       "      <th>0</th>\n",
       "      <td>Graduation</td>\n",
       "      <td>Single</td>\n",
       "      <td>58138.0</td>\n",
       "      <td>58</td>\n",
       "      <td>635</td>\n",
       "      <td>88</td>\n",
       "      <td>546.0</td>\n",
       "      <td>172</td>\n",
       "      <td>88</td>\n",
       "      <td>88</td>\n",
       "      <td>...</td>\n",
       "      <td>0</td>\n",
       "      <td>0</td>\n",
       "      <td>1</td>\n",
       "      <td>57.0</td>\n",
       "      <td>1445</td>\n",
       "      <td>25.0</td>\n",
       "      <td>0</td>\n",
       "      <td>1</td>\n",
       "      <td>1</td>\n",
       "      <td>914</td>\n",
       "    </tr>\n",
       "    <tr>\n",
       "      <th>1</th>\n",
       "      <td>Graduation</td>\n",
       "      <td>Single</td>\n",
       "      <td>46344.0</td>\n",
       "      <td>38</td>\n",
       "      <td>11</td>\n",
       "      <td>1</td>\n",
       "      <td>6.0</td>\n",
       "      <td>2</td>\n",
       "      <td>1</td>\n",
       "      <td>6</td>\n",
       "      <td>...</td>\n",
       "      <td>0</td>\n",
       "      <td>0</td>\n",
       "      <td>0</td>\n",
       "      <td>60.0</td>\n",
       "      <td>25</td>\n",
       "      <td>6.0</td>\n",
       "      <td>2</td>\n",
       "      <td>3</td>\n",
       "      <td>0</td>\n",
       "      <td>88</td>\n",
       "    </tr>\n",
       "    <tr>\n",
       "      <th>2</th>\n",
       "      <td>Graduation</td>\n",
       "      <td>In Relationship</td>\n",
       "      <td>71613.0</td>\n",
       "      <td>26</td>\n",
       "      <td>426</td>\n",
       "      <td>49</td>\n",
       "      <td>127.0</td>\n",
       "      <td>111</td>\n",
       "      <td>21</td>\n",
       "      <td>42</td>\n",
       "      <td>...</td>\n",
       "      <td>0</td>\n",
       "      <td>0</td>\n",
       "      <td>0</td>\n",
       "      <td>49.0</td>\n",
       "      <td>665</td>\n",
       "      <td>21.0</td>\n",
       "      <td>0</td>\n",
       "      <td>2</td>\n",
       "      <td>0</td>\n",
       "      <td>447</td>\n",
       "    </tr>\n",
       "    <tr>\n",
       "      <th>3</th>\n",
       "      <td>Graduation</td>\n",
       "      <td>In Relationship</td>\n",
       "      <td>26646.0</td>\n",
       "      <td>26</td>\n",
       "      <td>11</td>\n",
       "      <td>4</td>\n",
       "      <td>20.0</td>\n",
       "      <td>10</td>\n",
       "      <td>3</td>\n",
       "      <td>5</td>\n",
       "      <td>...</td>\n",
       "      <td>0</td>\n",
       "      <td>0</td>\n",
       "      <td>0</td>\n",
       "      <td>30.0</td>\n",
       "      <td>43</td>\n",
       "      <td>8.0</td>\n",
       "      <td>1</td>\n",
       "      <td>3</td>\n",
       "      <td>0</td>\n",
       "      <td>40</td>\n",
       "    </tr>\n",
       "    <tr>\n",
       "      <th>4</th>\n",
       "      <td>PhD</td>\n",
       "      <td>In Relationship</td>\n",
       "      <td>58293.0</td>\n",
       "      <td>94</td>\n",
       "      <td>173</td>\n",
       "      <td>43</td>\n",
       "      <td>118.0</td>\n",
       "      <td>46</td>\n",
       "      <td>27</td>\n",
       "      <td>15</td>\n",
       "      <td>...</td>\n",
       "      <td>0</td>\n",
       "      <td>0</td>\n",
       "      <td>0</td>\n",
       "      <td>33.0</td>\n",
       "      <td>376</td>\n",
       "      <td>19.0</td>\n",
       "      <td>1</td>\n",
       "      <td>3</td>\n",
       "      <td>0</td>\n",
       "      <td>228</td>\n",
       "    </tr>\n",
       "  </tbody>\n",
       "</table>\n",
       "<p>5 rows × 29 columns</p>\n",
       "</div>"
      ],
      "text/plain": [
       "    Education   Marital_Status   Income  Recency  MntWines  MntFruits  \\\n",
       "0  Graduation           Single  58138.0       58       635         88   \n",
       "1  Graduation           Single  46344.0       38        11          1   \n",
       "2  Graduation  In Relationship  71613.0       26       426         49   \n",
       "3  Graduation  In Relationship  26646.0       26        11          4   \n",
       "4         PhD  In Relationship  58293.0       94       173         43   \n",
       "\n",
       "   MntMeatProducts  MntFishProducts  MntSweetProducts  MntGoldProds  ...  \\\n",
       "0            546.0              172                88            88  ...   \n",
       "1              6.0                2                 1             6  ...   \n",
       "2            127.0              111                21            42  ...   \n",
       "3             20.0               10                 3             5  ...   \n",
       "4            118.0               46                27            15  ...   \n",
       "\n",
       "   AcceptedCmp2  Complain  Response   Age  Amount_Total  Total_Purchases  \\\n",
       "0             0         0         1  57.0          1445             25.0   \n",
       "1             0         0         0  60.0            25              6.0   \n",
       "2             0         0         0  49.0           665             21.0   \n",
       "3             0         0         0  30.0            43              8.0   \n",
       "4             0         0         0  33.0           376             19.0   \n",
       "\n",
       "   Children  Family_Size  Total_AcceptedCmp  Days_Active  \n",
       "0         0            1                  1          914  \n",
       "1         2            3                  0           88  \n",
       "2         0            2                  0          447  \n",
       "3         1            3                  0           40  \n",
       "4         1            3                  0          228  \n",
       "\n",
       "[5 rows x 29 columns]"
      ]
     },
     "execution_count": 3,
     "metadata": {},
     "output_type": "execute_result"
    }
   ],
   "source": [
    "df.head()"
   ]
  },
  {
   "cell_type": "code",
   "execution_count": 4,
   "id": "0e2fd31a",
   "metadata": {},
   "outputs": [
    {
     "data": {
      "text/plain": [
       "Index(['Education', 'Marital_Status', 'Income', 'Recency', 'MntWines',\n",
       "       'MntFruits', 'MntMeatProducts', 'MntFishProducts', 'MntSweetProducts',\n",
       "       'MntGoldProds', 'NumDealsPurchases', 'NumWebPurchases',\n",
       "       'NumCatalogPurchases', 'NumStorePurchases', 'NumWebVisitsMonth',\n",
       "       'AcceptedCmp3', 'AcceptedCmp4', 'AcceptedCmp5', 'AcceptedCmp1',\n",
       "       'AcceptedCmp2', 'Complain', 'Response', 'Age', 'Amount_Total',\n",
       "       'Total_Purchases', 'Children', 'Family_Size', 'Total_AcceptedCmp',\n",
       "       'Days_Active'],\n",
       "      dtype='object')"
      ]
     },
     "execution_count": 4,
     "metadata": {},
     "output_type": "execute_result"
    }
   ],
   "source": [
    "df.columns"
   ]
  },
  {
   "cell_type": "code",
   "execution_count": 5,
   "id": "10a7f8f1",
   "metadata": {},
   "outputs": [],
   "source": [
    "def education(data):\n",
    "    if data == 'Basic':\n",
    "        return 1\n",
    "    elif data == 'PhD':\n",
    "        return 3\n",
    "    return 2\n",
    "\n",
    "df['Education'] = df['Education'].apply(education)"
   ]
  },
  {
   "cell_type": "code",
   "execution_count": 6,
   "id": "b5c4f562",
   "metadata": {},
   "outputs": [],
   "source": [
    "df['Marital_Status'] = df['Marital_Status'].apply(lambda x: 1 if x == 'In Relationship' else 0)"
   ]
  },
  {
   "cell_type": "code",
   "execution_count": 7,
   "id": "e3d7a307",
   "metadata": {},
   "outputs": [],
   "source": [
    "model_features = df[['Education', 'Marital_Status', 'Income', 'Complain', 'Amount_Total','Total_Purchases', \n",
    "                     'Children', 'Total_AcceptedCmp', 'Days_Active']]"
   ]
  },
  {
   "cell_type": "code",
   "execution_count": 8,
   "id": "62219356",
   "metadata": {},
   "outputs": [],
   "source": [
    "MinMaxScaler = MinMaxScaler()"
   ]
  },
  {
   "cell_type": "code",
   "execution_count": 9,
   "id": "b90f27f0",
   "metadata": {},
   "outputs": [],
   "source": [
    "scaled_features = MinMaxScaler.fit_transform(model_features)"
   ]
  },
  {
   "cell_type": "code",
   "execution_count": 10,
   "id": "509146f8",
   "metadata": {},
   "outputs": [
    {
     "data": {
      "text/html": [
       "<div>\n",
       "<style scoped>\n",
       "    .dataframe tbody tr th:only-of-type {\n",
       "        vertical-align: middle;\n",
       "    }\n",
       "\n",
       "    .dataframe tbody tr th {\n",
       "        vertical-align: top;\n",
       "    }\n",
       "\n",
       "    .dataframe thead th {\n",
       "        text-align: right;\n",
       "    }\n",
       "</style>\n",
       "<table border=\"1\" class=\"dataframe\">\n",
       "  <thead>\n",
       "    <tr style=\"text-align: right;\">\n",
       "      <th></th>\n",
       "      <th>Education</th>\n",
       "      <th>Marital_Status</th>\n",
       "      <th>Income</th>\n",
       "      <th>Complain</th>\n",
       "      <th>Amount_Total</th>\n",
       "      <th>Total_Purchases</th>\n",
       "      <th>Children</th>\n",
       "      <th>Total_AcceptedCmp</th>\n",
       "      <th>Days_Active</th>\n",
       "    </tr>\n",
       "  </thead>\n",
       "  <tbody>\n",
       "    <tr>\n",
       "      <th>0</th>\n",
       "      <td>0.5</td>\n",
       "      <td>0.0</td>\n",
       "      <td>0.543739</td>\n",
       "      <td>0.0</td>\n",
       "      <td>0.593570</td>\n",
       "      <td>0.641026</td>\n",
       "      <td>0.000000</td>\n",
       "      <td>0.2</td>\n",
       "      <td>0.873252</td>\n",
       "    </tr>\n",
       "    <tr>\n",
       "      <th>1</th>\n",
       "      <td>0.5</td>\n",
       "      <td>0.0</td>\n",
       "      <td>0.430052</td>\n",
       "      <td>0.0</td>\n",
       "      <td>0.008244</td>\n",
       "      <td>0.153846</td>\n",
       "      <td>0.666667</td>\n",
       "      <td>0.0</td>\n",
       "      <td>0.151224</td>\n",
       "    </tr>\n",
       "    <tr>\n",
       "      <th>2</th>\n",
       "      <td>0.5</td>\n",
       "      <td>1.0</td>\n",
       "      <td>0.673630</td>\n",
       "      <td>0.0</td>\n",
       "      <td>0.272053</td>\n",
       "      <td>0.538462</td>\n",
       "      <td>0.000000</td>\n",
       "      <td>0.0</td>\n",
       "      <td>0.465035</td>\n",
       "    </tr>\n",
       "    <tr>\n",
       "      <th>3</th>\n",
       "      <td>0.5</td>\n",
       "      <td>1.0</td>\n",
       "      <td>0.240175</td>\n",
       "      <td>0.0</td>\n",
       "      <td>0.015664</td>\n",
       "      <td>0.205128</td>\n",
       "      <td>0.333333</td>\n",
       "      <td>0.0</td>\n",
       "      <td>0.109266</td>\n",
       "    </tr>\n",
       "    <tr>\n",
       "      <th>4</th>\n",
       "      <td>1.0</td>\n",
       "      <td>1.0</td>\n",
       "      <td>0.545233</td>\n",
       "      <td>0.0</td>\n",
       "      <td>0.152927</td>\n",
       "      <td>0.487179</td>\n",
       "      <td>0.333333</td>\n",
       "      <td>0.0</td>\n",
       "      <td>0.273601</td>\n",
       "    </tr>\n",
       "  </tbody>\n",
       "</table>\n",
       "</div>"
      ],
      "text/plain": [
       "   Education  Marital_Status    Income  Complain  Amount_Total  \\\n",
       "0        0.5             0.0  0.543739       0.0      0.593570   \n",
       "1        0.5             0.0  0.430052       0.0      0.008244   \n",
       "2        0.5             1.0  0.673630       0.0      0.272053   \n",
       "3        0.5             1.0  0.240175       0.0      0.015664   \n",
       "4        1.0             1.0  0.545233       0.0      0.152927   \n",
       "\n",
       "   Total_Purchases  Children  Total_AcceptedCmp  Days_Active  \n",
       "0         0.641026  0.000000                0.2     0.873252  \n",
       "1         0.153846  0.666667                0.0     0.151224  \n",
       "2         0.538462  0.000000                0.0     0.465035  \n",
       "3         0.205128  0.333333                0.0     0.109266  \n",
       "4         0.487179  0.333333                0.0     0.273601  "
      ]
     },
     "execution_count": 10,
     "metadata": {},
     "output_type": "execute_result"
    }
   ],
   "source": [
    "df_feat = pd.DataFrame(scaled_features,columns=model_features.columns)\n",
    "df_feat.head()"
   ]
  },
  {
   "cell_type": "code",
   "execution_count": 11,
   "id": "1757c7f0",
   "metadata": {},
   "outputs": [],
   "source": [
    "X = scaled_features"
   ]
  },
  {
   "cell_type": "code",
   "execution_count": 12,
   "id": "3ab3e9f3",
   "metadata": {},
   "outputs": [],
   "source": [
    "#Elbow Method - Inertia plot\n",
    "inertia = []\n",
    "#looping the inertia calculation for each k\n",
    "for k in range(1, 10):\n",
    "    #Assign KMeans as cluster_model\n",
    "    cluster_model = KMeans(n_clusters = k, random_state = 101)\n",
    "    #Fit cluster_model to X\n",
    "    cluster_model.fit(X)\n",
    "    #Get the inertia value\n",
    "    inertia_value = cluster_model.inertia_\n",
    "    #Append the inertia_value to inertia list\n",
    "    inertia.append(inertia_value)"
   ]
  },
  {
   "cell_type": "code",
   "execution_count": 13,
   "id": "21386ce0",
   "metadata": {},
   "outputs": [
    {
     "data": {
      "image/png": "[encoded data removed]",
      "text/plain": [
       "<Figure size 432x288 with 1 Axes>"
      ]
     },
     "metadata": {
      "needs_background": "light"
     },
     "output_type": "display_data"
    }
   ],
   "source": [
    "##Inertia plot\n",
    "plt.plot(range(1, 10), inertia)\n",
    "plt.title('The Elbow Method - Inertia plot', fontsize = 15)\n",
    "plt.xlabel('No. of Clusters')\n",
    "plt.ylabel('Inertia')\n",
    "plt.show()"
   ]
  },
  {
   "cell_type": "code",
   "execution_count": 14,
   "id": "a61b0039",
   "metadata": {},
   "outputs": [
    {
     "data": {
      "text/plain": [
       "[1237.3376073316565,\n",
       " 727.5124199995922,\n",
       " 580.3561544058665,\n",
       " 492.3325950903863,\n",
       " 451.65672723956055,\n",
       " 419.326286724563,\n",
       " 393.53440323306506,\n",
       " 370.93277635106773,\n",
       " 352.6206220656226]"
      ]
     },
     "execution_count": 14,
     "metadata": {},
     "output_type": "execute_result"
    }
   ],
   "source": [
    "inertia"
   ]
  },
  {
   "cell_type": "code",
   "execution_count": 15,
   "id": "b1f69815",
   "metadata": {},
   "outputs": [
    {
     "data": {
      "text/plain": [
       "KMeans(n_clusters=3, random_state=101)"
      ]
     },
     "execution_count": 15,
     "metadata": {},
     "output_type": "execute_result"
    }
   ],
   "source": [
    "kmeans = KMeans(n_clusters = 3, random_state = 101)\n",
    "kmeans.fit(X)"
   ]
  },
  {
   "cell_type": "code",
   "execution_count": 16,
   "id": "a474bf2b",
   "metadata": {},
   "outputs": [
    {
     "data": {
      "text/plain": [
       "array([[6.28951747e-01, 1.00000000e+00, 6.61344999e-01, 6.65557404e-03,\n",
       "        4.58808005e-01, 5.60518793e-01, 1.93566278e-01, 1.51081531e-01,\n",
       "        5.02143863e-01],\n",
       "       [5.98101266e-01, 7.77156117e-16, 4.84090336e-01, 8.86075949e-03,\n",
       "        2.38684296e-01, 3.79292438e-01, 3.03797468e-01, 1.04556962e-01,\n",
       "        4.78789723e-01],\n",
       "       [5.69110577e-01, 1.00000000e+00, 3.48675286e-01, 1.08173077e-02,\n",
       "        6.10647275e-02, 2.51818294e-01, 4.19871795e-01, 3.17307692e-02,\n",
       "        4.64624168e-01]])"
      ]
     },
     "execution_count": 16,
     "metadata": {},
     "output_type": "execute_result"
    }
   ],
   "source": [
    "kmeans.cluster_centers_"
   ]
  },
  {
   "cell_type": "code",
   "execution_count": 17,
   "id": "ecebdf2b",
   "metadata": {},
   "outputs": [
    {
     "name": "stderr",
     "output_type": "stream",
     "text": [
      "<ipython-input-17-6aa65b437f9a>:1: SettingWithCopyWarning: \n",
      "A value is trying to be set on a copy of a slice from a DataFrame.\n",
      "Try using .loc[row_indexer,col_indexer] = value instead\n",
      "\n",
      "See the caveats in the documentation: https://pandas.pydata.org/pandas-docs/stable/user_guide/indexing.html#returning-a-view-versus-a-copy\n",
      "  model_features['Cluster'] = kmeans.labels_ + 1\n"
     ]
    }
   ],
   "source": [
    "model_features['Cluster'] = kmeans.labels_ + 1"
   ]
  },
  {
   "cell_type": "code",
   "execution_count": 18,
   "id": "678f0606",
   "metadata": {},
   "outputs": [
    {
     "data": {
      "text/html": [
       "<div>\n",
       "<style scoped>\n",
       "    .dataframe tbody tr th:only-of-type {\n",
       "        vertical-align: middle;\n",
       "    }\n",
       "\n",
       "    .dataframe tbody tr th {\n",
       "        vertical-align: top;\n",
       "    }\n",
       "\n",
       "    .dataframe thead th {\n",
       "        text-align: right;\n",
       "    }\n",
       "</style>\n",
       "<table border=\"1\" class=\"dataframe\">\n",
       "  <thead>\n",
       "    <tr style=\"text-align: right;\">\n",
       "      <th></th>\n",
       "      <th>Education</th>\n",
       "      <th>Marital_Status</th>\n",
       "      <th>Income</th>\n",
       "      <th>Complain</th>\n",
       "      <th>Amount_Total</th>\n",
       "      <th>Total_Purchases</th>\n",
       "      <th>Children</th>\n",
       "      <th>Total_AcceptedCmp</th>\n",
       "      <th>Days_Active</th>\n",
       "      <th>Cluster</th>\n",
       "    </tr>\n",
       "  </thead>\n",
       "  <tbody>\n",
       "    <tr>\n",
       "      <th>0</th>\n",
       "      <td>2</td>\n",
       "      <td>0</td>\n",
       "      <td>58138.0</td>\n",
       "      <td>0</td>\n",
       "      <td>1445</td>\n",
       "      <td>25.0</td>\n",
       "      <td>0</td>\n",
       "      <td>1</td>\n",
       "      <td>914</td>\n",
       "      <td>2</td>\n",
       "    </tr>\n",
       "    <tr>\n",
       "      <th>1</th>\n",
       "      <td>2</td>\n",
       "      <td>0</td>\n",
       "      <td>46344.0</td>\n",
       "      <td>0</td>\n",
       "      <td>25</td>\n",
       "      <td>6.0</td>\n",
       "      <td>2</td>\n",
       "      <td>0</td>\n",
       "      <td>88</td>\n",
       "      <td>2</td>\n",
       "    </tr>\n",
       "    <tr>\n",
       "      <th>2</th>\n",
       "      <td>2</td>\n",
       "      <td>1</td>\n",
       "      <td>71613.0</td>\n",
       "      <td>0</td>\n",
       "      <td>665</td>\n",
       "      <td>21.0</td>\n",
       "      <td>0</td>\n",
       "      <td>0</td>\n",
       "      <td>447</td>\n",
       "      <td>1</td>\n",
       "    </tr>\n",
       "    <tr>\n",
       "      <th>3</th>\n",
       "      <td>2</td>\n",
       "      <td>1</td>\n",
       "      <td>26646.0</td>\n",
       "      <td>0</td>\n",
       "      <td>43</td>\n",
       "      <td>8.0</td>\n",
       "      <td>1</td>\n",
       "      <td>0</td>\n",
       "      <td>40</td>\n",
       "      <td>3</td>\n",
       "    </tr>\n",
       "    <tr>\n",
       "      <th>4</th>\n",
       "      <td>3</td>\n",
       "      <td>1</td>\n",
       "      <td>58293.0</td>\n",
       "      <td>0</td>\n",
       "      <td>376</td>\n",
       "      <td>19.0</td>\n",
       "      <td>1</td>\n",
       "      <td>0</td>\n",
       "      <td>228</td>\n",
       "      <td>3</td>\n",
       "    </tr>\n",
       "  </tbody>\n",
       "</table>\n",
       "</div>"
      ],
      "text/plain": [
       "   Education  Marital_Status   Income  Complain  Amount_Total  \\\n",
       "0          2               0  58138.0         0          1445   \n",
       "1          2               0  46344.0         0            25   \n",
       "2          2               1  71613.0         0           665   \n",
       "3          2               1  26646.0         0            43   \n",
       "4          3               1  58293.0         0           376   \n",
       "\n",
       "   Total_Purchases  Children  Total_AcceptedCmp  Days_Active  Cluster  \n",
       "0             25.0         0                  1          914        2  \n",
       "1              6.0         2                  0           88        2  \n",
       "2             21.0         0                  0          447        1  \n",
       "3              8.0         1                  0           40        3  \n",
       "4             19.0         1                  0          228        3  "
      ]
     },
     "execution_count": 18,
     "metadata": {},
     "output_type": "execute_result"
    }
   ],
   "source": [
    "model_features.head()"
   ]
  },
  {
   "cell_type": "code",
   "execution_count": 19,
   "id": "7184a48e",
   "metadata": {
    "scrolled": false
   },
   "outputs": [
    {
     "data": {
      "text/plain": [
       "<AxesSubplot:xlabel='Cluster', ylabel='count'>"
      ]
     },
     "execution_count": 19,
     "metadata": {},
     "output_type": "execute_result"
    },
    {
     "data": {
      "image/png": "[encoded data removed]",
      "text/plain": [
       "<Figure size 432x288 with 1 Axes>"
      ]
     },
     "metadata": {
      "needs_background": "light"
     },
     "output_type": "display_data"
    }
   ],
   "source": [
    "sns.countplot(x='Cluster', data=model_features)"
   ]
  },
  {
   "cell_type": "code",
   "execution_count": 20,
   "id": "81ec1c84",
   "metadata": {
    "scrolled": false
   },
   "outputs": [
    {
     "data": {
      "image/png": "[encoded data removed]",
      "text/plain": [
       "<Figure size 864x288 with 3 Axes>"
      ]
     },
     "metadata": {
      "needs_background": "light"
     },
     "output_type": "display_data"
    },
    {
     "data": {
      "image/png": "[encoded data removed]",
      "text/plain": [
       "<Figure size 864x288 with 3 Axes>"
      ]
     },
     "metadata": {
      "needs_background": "light"
     },
     "output_type": "display_data"
    },
    {
     "data": {
      "image/png": "[encoded data removed]",
      "text/plain": [
       "<Figure size 864x288 with 3 Axes>"
      ]
     },
     "metadata": {
      "needs_background": "light"
     },
     "output_type": "display_data"
    },
    {
     "data": {
      "image/png": "[encoded data removed]",
      "text/plain": [
       "<Figure size 864x288 with 3 Axes>"
      ]
     },
     "metadata": {
      "needs_background": "light"
     },
     "output_type": "display_data"
    },
    {
     "data": {
      "image/png": "[encoded data removed]",
      "text/plain": [
       "<Figure size 864x288 with 3 Axes>"
      ]
     },
     "metadata": {
      "needs_background": "light"
     },
     "output_type": "display_data"
    },
    {
     "data": {
      "image/png": "[encoded data removed]",
      "text/plain": [
       "<Figure size 864x288 with 3 Axes>"
      ]
     },
     "metadata": {
      "needs_background": "light"
     },
     "output_type": "display_data"
    },
    {
     "data": {
      "image/png": "[encoded data removed]",
      "text/plain": [
       "<Figure size 864x288 with 3 Axes>"
      ]
     },
     "metadata": {
      "needs_background": "light"
     },
     "output_type": "display_data"
    },
    {
     "data": {
      "image/png": "[encoded data removed]",
      "text/plain": [
       "<Figure size 864x288 with 3 Axes>"
      ]
     },
     "metadata": {
      "needs_background": "light"
     },
     "output_type": "display_data"
    },
    {
     "data": {
      "image/png": "[encoded data removed]",
      "text/plain": [
       "<Figure size 864x288 with 3 Axes>"
      ]
     },
     "metadata": {
      "needs_background": "light"
     },
     "output_type": "display_data"
    },
    {
     "data": {
      "image/png": "[encoded data removed]",
      "text/plain": [
       "<Figure size 864x288 with 3 Axes>"
      ]
     },
     "metadata": {
      "needs_background": "light"
     },
     "output_type": "display_data"
    }
   ],
   "source": [
    "for i in model_features:\n",
    "    diag = sns.FacetGrid(model_features, col = 'Cluster', hue = 'Cluster', palette = \"Set1\", height=4)\n",
    "    diag.map(plt.hist, i, bins=10, ec=\"k\") \n",
    "    diag.set_xticklabels(rotation=30, color = 'black')"
   ]
  },
  {
   "cell_type": "markdown",
   "id": "3f383b02",
   "metadata": {},
   "source": [
    "<font size=\"4\">From this prediction, there are three types of customers: </font>\n",
    "\n",
    "<font size=\"4\">First type:</font><br>\n",
    "<font size=\"3\">- Most of them are Graduates and Postgraduates</font><br>\n",
    "<font size=\"3\">- Married</font><br>\n",
    "<font size=\"3\">- Have an approximately 40k-100k of income</font><br>\n",
    "<font size=\"3\">- Most of them don't complain</font><br>\n",
    "<font size=\"3\">- Bought approximately 400-2200 products</font><br>\n",
    "<font size=\"3\">- Made a purchase approximately 15-35 times</font><br>\n",
    "<font size=\"3\">- Many of them either have a child or don't have a child</font><br>\n",
    "<font size=\"3\">- Only some accepted the marketing campaign</font><br>\n",
    "<font size=\"3\">- Have loyalty with the company for a long period of time</font><br>\n",
    "\n",
    "<font size=\"4\">Second type:</font><br>\n",
    "<font size=\"3\">- Have higher graduates and slightly higher undergraduates and postgraduates than the first type</font><br>\n",
    "<font size=\"3\">- Not Married</font><br>\n",
    "<font size=\"3\">- Have an approximately 20k-90k of income</font><br>\n",
    "<font size=\"3\">- Most of them don't complain</font><br>\n",
    "<font size=\"3\">- Bought approximately 200-1500 products</font><br>\n",
    "<font size=\"3\">- Made a purchase approximately 5-25 times</font><br>\n",
    "<font size=\"3\">- Most of them have a child</font><br>\n",
    "<font size=\"3\">- Only some accepted the marketing campaign</font><br>\n",
    "<font size=\"3\">- Higher number of people have loyalty with the company for a long period of time compared to the first type</font><br>\n",
    "\n",
    "<font size=\"4\">Third type:</font><br>\n",
    "<font size=\"3\">- Have higher graduates, slightly higher undergraduates, and slightly lower postgraduates than the second type</font><br>\n",
    "<font size=\"3\">- Married</font><br>\n",
    "<font size=\"3\">- Have an approximately 10k-60k of income</font><br>\n",
    "<font size=\"3\">- Most of them don't complain</font><br>\n",
    "<font size=\"3\">- Bought approximately 100-500 products</font><br>\n",
    "<font size=\"3\">- Made a purchase approximately 5-20 times</font><br>\n",
    "<font size=\"3\">- Most of them have a child</font><br>\n",
    "<font size=\"3\">- Only some accepted the marketing campaign</font><br>\n",
    "<font size=\"3\">- Slightly higher number of people have loyalty with the company for a long period of time compared to the second type</font><br>"
   ]
  },
  {
   "cell_type": "code",
   "execution_count": null,
   "id": "b4e510e1",
   "metadata": {},
   "outputs": [],
   "source": []
  }
 ],
 "metadata": {
  "kernelspec": {
   "display_name": "Python 3",
   "language": "python",
   "name": "python3"
  },
  "language_info": {
   "codemirror_mode": {
    "name": "ipython",
    "version": 3
   },
   "file_extension": ".py",
   "mimetype": "text/x-python",
   "name": "python",
   "nbconvert_exporter": "python",
   "pygments_lexer": "ipython3",
   "version": "3.8.8"
  }
 },
 "nbformat": 4,
 "nbformat_minor": 5
}
