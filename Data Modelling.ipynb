{
 "cells": [
  {
   "cell_type": "code",
   "execution_count": 1,
   "id": "f851dfc9",
   "metadata": {},
   "outputs": [],
   "source": [
    "import pandas as pd\n",
    "import matplotlib.pyplot as plt\n",
    "import seaborn as sns\n",
    "from sklearn.preprocessing import StandardScaler\n",
    "from sklearn.cluster import KMeans  "
   ]
  },
  {
   "cell_type": "code",
   "execution_count": 2,
   "id": "e15f3244",
   "metadata": {},
   "outputs": [],
   "source": [
    "df = pd.read_csv('Cleaned.csv', index_col=0)"
   ]
  },
  {
   "cell_type": "code",
   "execution_count": 3,
   "id": "cb38abb8",
   "metadata": {},
   "outputs": [
    {
     "data": {
      "text/html": [
       "<div>\n",
       "<style scoped>\n",
       "    .dataframe tbody tr th:only-of-type {\n",
       "        vertical-align: middle;\n",
       "    }\n",
       "\n",
       "    .dataframe tbody tr th {\n",
       "        vertical-align: top;\n",
       "    }\n",
       "\n",
       "    .dataframe thead th {\n",
       "        text-align: right;\n",
       "    }\n",
       "</style>\n",
       "<table border=\"1\" class=\"dataframe\">\n",
       "  <thead>\n",
       "    <tr style=\"text-align: right;\">\n",
       "      <th></th>\n",
       "      <th>Education</th>\n",
       "      <th>Marital_Status</th>\n",
       "      <th>Income</th>\n",
       "      <th>Recency</th>\n",
       "      <th>MntWines</th>\n",
       "      <th>MntFruits</th>\n",
       "      <th>MntMeatProducts</th>\n",
       "      <th>MntFishProducts</th>\n",
       "      <th>MntSweetProducts</th>\n",
       "      <th>MntGoldProds</th>\n",
       "      <th>...</th>\n",
       "      <th>AcceptedCmp2</th>\n",
       "      <th>Complain</th>\n",
       "      <th>Response</th>\n",
       "      <th>Age</th>\n",
       "      <th>Amount_Total</th>\n",
       "      <th>Total_Purchases</th>\n",
       "      <th>Children</th>\n",
       "      <th>Family_Size</th>\n",
       "      <th>Total_AcceptedCmp</th>\n",
       "      <th>Days_Active</th>\n",
       "    </tr>\n",
       "  </thead>\n",
       "  <tbody>\n",
       "    <tr>\n",
       "      <th>0</th>\n",
       "      <td>Graduation</td>\n",
       "      <td>Single</td>\n",
       "      <td>58138.0</td>\n",
       "      <td>58</td>\n",
       "      <td>635</td>\n",
       "      <td>88</td>\n",
       "      <td>546.0</td>\n",
       "      <td>172</td>\n",
       "      <td>88</td>\n",
       "      <td>88</td>\n",
       "      <td>...</td>\n",
       "      <td>0</td>\n",
       "      <td>0</td>\n",
       "      <td>1</td>\n",
       "      <td>57.0</td>\n",
       "      <td>1445</td>\n",
       "      <td>25.0</td>\n",
       "      <td>0</td>\n",
       "      <td>1</td>\n",
       "      <td>1</td>\n",
       "      <td>914</td>\n",
       "    </tr>\n",
       "    <tr>\n",
       "      <th>1</th>\n",
       "      <td>Graduation</td>\n",
       "      <td>Single</td>\n",
       "      <td>46344.0</td>\n",
       "      <td>38</td>\n",
       "      <td>11</td>\n",
       "      <td>1</td>\n",
       "      <td>6.0</td>\n",
       "      <td>2</td>\n",
       "      <td>1</td>\n",
       "      <td>6</td>\n",
       "      <td>...</td>\n",
       "      <td>0</td>\n",
       "      <td>0</td>\n",
       "      <td>0</td>\n",
       "      <td>60.0</td>\n",
       "      <td>25</td>\n",
       "      <td>6.0</td>\n",
       "      <td>2</td>\n",
       "      <td>3</td>\n",
       "      <td>0</td>\n",
       "      <td>88</td>\n",
       "    </tr>\n",
       "    <tr>\n",
       "      <th>2</th>\n",
       "      <td>Graduation</td>\n",
       "      <td>In Relationship</td>\n",
       "      <td>71613.0</td>\n",
       "      <td>26</td>\n",
       "      <td>426</td>\n",
       "      <td>49</td>\n",
       "      <td>127.0</td>\n",
       "      <td>111</td>\n",
       "      <td>21</td>\n",
       "      <td>42</td>\n",
       "      <td>...</td>\n",
       "      <td>0</td>\n",
       "      <td>0</td>\n",
       "      <td>0</td>\n",
       "      <td>49.0</td>\n",
       "      <td>665</td>\n",
       "      <td>21.0</td>\n",
       "      <td>0</td>\n",
       "      <td>2</td>\n",
       "      <td>0</td>\n",
       "      <td>447</td>\n",
       "    </tr>\n",
       "    <tr>\n",
       "      <th>3</th>\n",
       "      <td>Graduation</td>\n",
       "      <td>In Relationship</td>\n",
       "      <td>26646.0</td>\n",
       "      <td>26</td>\n",
       "      <td>11</td>\n",
       "      <td>4</td>\n",
       "      <td>20.0</td>\n",
       "      <td>10</td>\n",
       "      <td>3</td>\n",
       "      <td>5</td>\n",
       "      <td>...</td>\n",
       "      <td>0</td>\n",
       "      <td>0</td>\n",
       "      <td>0</td>\n",
       "      <td>30.0</td>\n",
       "      <td>43</td>\n",
       "      <td>8.0</td>\n",
       "      <td>1</td>\n",
       "      <td>3</td>\n",
       "      <td>0</td>\n",
       "      <td>40</td>\n",
       "    </tr>\n",
       "    <tr>\n",
       "      <th>4</th>\n",
       "      <td>PhD</td>\n",
       "      <td>In Relationship</td>\n",
       "      <td>58293.0</td>\n",
       "      <td>94</td>\n",
       "      <td>173</td>\n",
       "      <td>43</td>\n",
       "      <td>118.0</td>\n",
       "      <td>46</td>\n",
       "      <td>27</td>\n",
       "      <td>15</td>\n",
       "      <td>...</td>\n",
       "      <td>0</td>\n",
       "      <td>0</td>\n",
       "      <td>0</td>\n",
       "      <td>33.0</td>\n",
       "      <td>376</td>\n",
       "      <td>19.0</td>\n",
       "      <td>1</td>\n",
       "      <td>3</td>\n",
       "      <td>0</td>\n",
       "      <td>228</td>\n",
       "    </tr>\n",
       "  </tbody>\n",
       "</table>\n",
       "<p>5 rows × 29 columns</p>\n",
       "</div>"
      ],
      "text/plain": [
       "    Education   Marital_Status   Income  Recency  MntWines  MntFruits  \\\n",
       "0  Graduation           Single  58138.0       58       635         88   \n",
       "1  Graduation           Single  46344.0       38        11          1   \n",
       "2  Graduation  In Relationship  71613.0       26       426         49   \n",
       "3  Graduation  In Relationship  26646.0       26        11          4   \n",
       "4         PhD  In Relationship  58293.0       94       173         43   \n",
       "\n",
       "   MntMeatProducts  MntFishProducts  MntSweetProducts  MntGoldProds  ...  \\\n",
       "0            546.0              172                88            88  ...   \n",
       "1              6.0                2                 1             6  ...   \n",
       "2            127.0              111                21            42  ...   \n",
       "3             20.0               10                 3             5  ...   \n",
       "4            118.0               46                27            15  ...   \n",
       "\n",
       "   AcceptedCmp2  Complain  Response   Age  Amount_Total  Total_Purchases  \\\n",
       "0             0         0         1  57.0          1445             25.0   \n",
       "1             0         0         0  60.0            25              6.0   \n",
       "2             0         0         0  49.0           665             21.0   \n",
       "3             0         0         0  30.0            43              8.0   \n",
       "4             0         0         0  33.0           376             19.0   \n",
       "\n",
       "   Children  Family_Size  Total_AcceptedCmp  Days_Active  \n",
       "0         0            1                  1          914  \n",
       "1         2            3                  0           88  \n",
       "2         0            2                  0          447  \n",
       "3         1            3                  0           40  \n",
       "4         1            3                  0          228  \n",
       "\n",
       "[5 rows x 29 columns]"
      ]
     },
     "execution_count": 3,
     "metadata": {},
     "output_type": "execute_result"
    }
   ],
   "source": [
    "df.head()"
   ]
  },
  {
   "cell_type": "code",
   "execution_count": 4,
   "id": "0e2fd31a",
   "metadata": {},
   "outputs": [
    {
     "data": {
      "text/plain": [
       "Index(['Education', 'Marital_Status', 'Income', 'Recency', 'MntWines',\n",
       "       'MntFruits', 'MntMeatProducts', 'MntFishProducts', 'MntSweetProducts',\n",
       "       'MntGoldProds', 'NumDealsPurchases', 'NumWebPurchases',\n",
       "       'NumCatalogPurchases', 'NumStorePurchases', 'NumWebVisitsMonth',\n",
       "       'AcceptedCmp3', 'AcceptedCmp4', 'AcceptedCmp5', 'AcceptedCmp1',\n",
       "       'AcceptedCmp2', 'Complain', 'Response', 'Age', 'Amount_Total',\n",
       "       'Total_Purchases', 'Children', 'Family_Size', 'Total_AcceptedCmp',\n",
       "       'Days_Active'],\n",
       "      dtype='object')"
      ]
     },
     "execution_count": 4,
     "metadata": {},
     "output_type": "execute_result"
    }
   ],
   "source": [
    "df.columns"
   ]
  },
  {
   "cell_type": "code",
   "execution_count": 5,
   "id": "04e8aa85",
   "metadata": {},
   "outputs": [],
   "source": [
    "df['Education'] = df['Education'].apply(lambda x: 0 if x == 'Basic' else 1)"
   ]
  },
  {
   "cell_type": "code",
   "execution_count": 6,
   "id": "b5c4f562",
   "metadata": {},
   "outputs": [],
   "source": [
    "df['Marital_Status'] = df['Marital_Status'].apply(lambda x: 1 if x == 'In Relationship' else 0)"
   ]
  },
  {
   "cell_type": "code",
   "execution_count": 7,
   "id": "e3d7a307",
   "metadata": {},
   "outputs": [],
   "source": [
    "model_features = df[['Education', 'Marital_Status', 'Income', 'Age', 'Amount_Total','Total_Purchases', \n",
    "                     'Children', 'Total_AcceptedCmp', 'Days_Active']]"
   ]
  },
  {
   "cell_type": "code",
   "execution_count": 8,
   "id": "62219356",
   "metadata": {},
   "outputs": [],
   "source": [
    "scaler = StandardScaler()"
   ]
  },
  {
   "cell_type": "code",
   "execution_count": 9,
   "id": "b90f27f0",
   "metadata": {},
   "outputs": [],
   "source": [
    "scaled_features = scaler.fit_transform(model_features)"
   ]
  },
  {
   "cell_type": "code",
   "execution_count": 10,
   "id": "509146f8",
   "metadata": {},
   "outputs": [
    {
     "data": {
      "text/html": [
       "<div>\n",
       "<style scoped>\n",
       "    .dataframe tbody tr th:only-of-type {\n",
       "        vertical-align: middle;\n",
       "    }\n",
       "\n",
       "    .dataframe tbody tr th {\n",
       "        vertical-align: top;\n",
       "    }\n",
       "\n",
       "    .dataframe thead th {\n",
       "        text-align: right;\n",
       "    }\n",
       "</style>\n",
       "<table border=\"1\" class=\"dataframe\">\n",
       "  <thead>\n",
       "    <tr style=\"text-align: right;\">\n",
       "      <th></th>\n",
       "      <th>Education</th>\n",
       "      <th>Marital_Status</th>\n",
       "      <th>Income</th>\n",
       "      <th>Age</th>\n",
       "      <th>Amount_Total</th>\n",
       "      <th>Total_Purchases</th>\n",
       "      <th>Children</th>\n",
       "      <th>Total_AcceptedCmp</th>\n",
       "      <th>Days_Active</th>\n",
       "    </tr>\n",
       "  </thead>\n",
       "  <tbody>\n",
       "    <tr>\n",
       "      <th>0</th>\n",
       "      <td>0.157786</td>\n",
       "      <td>-1.34682</td>\n",
       "      <td>0.315669</td>\n",
       "      <td>1.015735</td>\n",
       "      <td>1.548620</td>\n",
       "      <td>1.338821</td>\n",
       "      <td>-1.266464</td>\n",
       "      <td>0.616698</td>\n",
       "      <td>1.929847</td>\n",
       "    </tr>\n",
       "    <tr>\n",
       "      <th>1</th>\n",
       "      <td>0.157786</td>\n",
       "      <td>-1.34682</td>\n",
       "      <td>-0.259374</td>\n",
       "      <td>1.272139</td>\n",
       "      <td>-0.956407</td>\n",
       "      <td>-1.165509</td>\n",
       "      <td>1.393290</td>\n",
       "      <td>-0.503335</td>\n",
       "      <td>-1.611655</td>\n",
       "    </tr>\n",
       "    <tr>\n",
       "      <th>2</th>\n",
       "      <td>0.157786</td>\n",
       "      <td>0.74249</td>\n",
       "      <td>0.972672</td>\n",
       "      <td>0.331991</td>\n",
       "      <td>0.172619</td>\n",
       "      <td>0.811593</td>\n",
       "      <td>-1.266464</td>\n",
       "      <td>-0.503335</td>\n",
       "      <td>-0.072431</td>\n",
       "    </tr>\n",
       "    <tr>\n",
       "      <th>3</th>\n",
       "      <td>0.157786</td>\n",
       "      <td>0.74249</td>\n",
       "      <td>-1.219794</td>\n",
       "      <td>-1.291901</td>\n",
       "      <td>-0.924653</td>\n",
       "      <td>-0.901895</td>\n",
       "      <td>0.063413</td>\n",
       "      <td>-0.503335</td>\n",
       "      <td>-1.817457</td>\n",
       "    </tr>\n",
       "    <tr>\n",
       "      <th>4</th>\n",
       "      <td>0.157786</td>\n",
       "      <td>0.74249</td>\n",
       "      <td>0.323226</td>\n",
       "      <td>-1.035497</td>\n",
       "      <td>-0.337206</td>\n",
       "      <td>0.547980</td>\n",
       "      <td>0.063413</td>\n",
       "      <td>-0.503335</td>\n",
       "      <td>-1.011401</td>\n",
       "    </tr>\n",
       "  </tbody>\n",
       "</table>\n",
       "</div>"
      ],
      "text/plain": [
       "   Education  Marital_Status    Income       Age  Amount_Total  \\\n",
       "0   0.157786        -1.34682  0.315669  1.015735      1.548620   \n",
       "1   0.157786        -1.34682 -0.259374  1.272139     -0.956407   \n",
       "2   0.157786         0.74249  0.972672  0.331991      0.172619   \n",
       "3   0.157786         0.74249 -1.219794 -1.291901     -0.924653   \n",
       "4   0.157786         0.74249  0.323226 -1.035497     -0.337206   \n",
       "\n",
       "   Total_Purchases  Children  Total_AcceptedCmp  Days_Active  \n",
       "0         1.338821 -1.266464           0.616698     1.929847  \n",
       "1        -1.165509  1.393290          -0.503335    -1.611655  \n",
       "2         0.811593 -1.266464          -0.503335    -0.072431  \n",
       "3        -0.901895  0.063413          -0.503335    -1.817457  \n",
       "4         0.547980  0.063413          -0.503335    -1.011401  "
      ]
     },
     "execution_count": 10,
     "metadata": {},
     "output_type": "execute_result"
    }
   ],
   "source": [
    "df_feat = pd.DataFrame(scaled_features,columns=model_features.columns)\n",
    "df_feat.head()"
   ]
  },
  {
   "cell_type": "code",
   "execution_count": 11,
   "id": "1757c7f0",
   "metadata": {},
   "outputs": [],
   "source": [
    "X = scaled_features"
   ]
  },
  {
   "cell_type": "code",
   "execution_count": 12,
   "id": "3ab3e9f3",
   "metadata": {},
   "outputs": [],
   "source": [
    "#Elbow Method - Inertia plot\n",
    "inertia = []\n",
    "#looping the inertia calculation for each k\n",
    "for k in range(1, 10):\n",
    "    #Assign KMeans as cluster_model\n",
    "    cluster_model = KMeans(n_clusters = k, random_state = 101)\n",
    "    #Fit cluster_model to X\n",
    "    cluster_model.fit(X)\n",
    "    #Get the inertia value\n",
    "    inertia_value = cluster_model.inertia_\n",
    "    #Append the inertia_value to inertia list\n",
    "    inertia.append(inertia_value)"
   ]
  },
  {
   "cell_type": "code",
   "execution_count": 13,
   "id": "21386ce0",
   "metadata": {},
   "outputs": [
    {
     "data": {
      "image/png": "[encoded data removed]",
      "text/plain": [
       "<Figure size 432x288 with 1 Axes>"
      ]
     },
     "metadata": {
      "needs_background": "light"
     },
     "output_type": "display_data"
    }
   ],
   "source": [
    "##Inertia plot\n",
    "plt.plot(range(1, 10), inertia)\n",
    "plt.title('The Elbow Method - Inertia plot', fontsize = 15)\n",
    "plt.xlabel('No. of Clusters')\n",
    "plt.ylabel('Inertia')\n",
    "plt.show()"
   ]
  },
  {
   "cell_type": "code",
   "execution_count": 14,
   "id": "a61b0039",
   "metadata": {},
   "outputs": [
    {
     "data": {
      "text/plain": [
       "[20007.000000000022,\n",
       " 14768.314763637245,\n",
       " 13300.473035337995,\n",
       " 11044.462628817897,\n",
       " 9924.980510162348,\n",
       " 9084.06740751068,\n",
       " 8442.382961433059,\n",
       " 7970.226614292219,\n",
       " 7614.271565774041]"
      ]
     },
     "execution_count": 14,
     "metadata": {},
     "output_type": "execute_result"
    }
   ],
   "source": [
    "inertia"
   ]
  },
  {
   "cell_type": "code",
   "execution_count": 15,
   "id": "b1f69815",
   "metadata": {},
   "outputs": [
    {
     "data": {
      "text/plain": [
       "KMeans(n_clusters=4, random_state=101)"
      ]
     },
     "execution_count": 15,
     "metadata": {},
     "output_type": "execute_result"
    }
   ],
   "source": [
    "kmeans = KMeans(n_clusters = 4, random_state = 101)\n",
    "kmeans.fit(X)"
   ]
  },
  {
   "cell_type": "code",
   "execution_count": 16,
   "id": "a474bf2b",
   "metadata": {},
   "outputs": [
    {
     "data": {
      "text/plain": [
       "array([[ 0.1577855 , -0.14294264,  1.29880838, -0.06770685,  1.6195125 ,\n",
       "         0.80277345, -0.97972483,  2.04068132,  0.11084913],\n",
       "       [ 0.1577855 ,  0.02292671, -0.75727638, -0.17887078, -0.80926828,\n",
       "        -0.82686309,  0.44824454, -0.30568186, -0.13664633],\n",
       "       [ 0.1577855 ,  0.01888719,  0.62807393,  0.29117659,  0.54985829,\n",
       "         0.84072784, -0.22739942, -0.24649501,  0.1115326 ],\n",
       "       [-6.33771778, -0.03132868, -1.52890179, -0.73319347, -0.88630013,\n",
       "        -1.03126139, -0.30599735, -0.33740394,  0.36759699]])"
      ]
     },
     "execution_count": 16,
     "metadata": {},
     "output_type": "execute_result"
    }
   ],
   "source": [
    "kmeans.cluster_centers_"
   ]
  },
  {
   "cell_type": "code",
   "execution_count": 17,
   "id": "ecebdf2b",
   "metadata": {},
   "outputs": [
    {
     "name": "stderr",
     "output_type": "stream",
     "text": [
      "<ipython-input-17-6aa65b437f9a>:1: SettingWithCopyWarning: \n",
      "A value is trying to be set on a copy of a slice from a DataFrame.\n",
      "Try using .loc[row_indexer,col_indexer] = value instead\n",
      "\n",
      "See the caveats in the documentation: https://pandas.pydata.org/pandas-docs/stable/user_guide/indexing.html#returning-a-view-versus-a-copy\n",
      "  model_features['Cluster'] = kmeans.labels_ + 1\n"
     ]
    }
   ],
   "source": [
    "model_features['Cluster'] = kmeans.labels_ + 1"
   ]
  },
  {
   "cell_type": "code",
   "execution_count": 18,
   "id": "678f0606",
   "metadata": {},
   "outputs": [
    {
     "data": {
      "text/html": [
       "<div>\n",
       "<style scoped>\n",
       "    .dataframe tbody tr th:only-of-type {\n",
       "        vertical-align: middle;\n",
       "    }\n",
       "\n",
       "    .dataframe tbody tr th {\n",
       "        vertical-align: top;\n",
       "    }\n",
       "\n",
       "    .dataframe thead th {\n",
       "        text-align: right;\n",
       "    }\n",
       "</style>\n",
       "<table border=\"1\" class=\"dataframe\">\n",
       "  <thead>\n",
       "    <tr style=\"text-align: right;\">\n",
       "      <th></th>\n",
       "      <th>Education</th>\n",
       "      <th>Marital_Status</th>\n",
       "      <th>Income</th>\n",
       "      <th>Age</th>\n",
       "      <th>Amount_Total</th>\n",
       "      <th>Total_Purchases</th>\n",
       "      <th>Children</th>\n",
       "      <th>Total_AcceptedCmp</th>\n",
       "      <th>Days_Active</th>\n",
       "      <th>Cluster</th>\n",
       "    </tr>\n",
       "  </thead>\n",
       "  <tbody>\n",
       "    <tr>\n",
       "      <th>0</th>\n",
       "      <td>1</td>\n",
       "      <td>0</td>\n",
       "      <td>58138.0</td>\n",
       "      <td>57.0</td>\n",
       "      <td>1445</td>\n",
       "      <td>25.0</td>\n",
       "      <td>0</td>\n",
       "      <td>1</td>\n",
       "      <td>914</td>\n",
       "      <td>3</td>\n",
       "    </tr>\n",
       "    <tr>\n",
       "      <th>1</th>\n",
       "      <td>1</td>\n",
       "      <td>0</td>\n",
       "      <td>46344.0</td>\n",
       "      <td>60.0</td>\n",
       "      <td>25</td>\n",
       "      <td>6.0</td>\n",
       "      <td>2</td>\n",
       "      <td>0</td>\n",
       "      <td>88</td>\n",
       "      <td>2</td>\n",
       "    </tr>\n",
       "    <tr>\n",
       "      <th>2</th>\n",
       "      <td>1</td>\n",
       "      <td>1</td>\n",
       "      <td>71613.0</td>\n",
       "      <td>49.0</td>\n",
       "      <td>665</td>\n",
       "      <td>21.0</td>\n",
       "      <td>0</td>\n",
       "      <td>0</td>\n",
       "      <td>447</td>\n",
       "      <td>3</td>\n",
       "    </tr>\n",
       "    <tr>\n",
       "      <th>3</th>\n",
       "      <td>1</td>\n",
       "      <td>1</td>\n",
       "      <td>26646.0</td>\n",
       "      <td>30.0</td>\n",
       "      <td>43</td>\n",
       "      <td>8.0</td>\n",
       "      <td>1</td>\n",
       "      <td>0</td>\n",
       "      <td>40</td>\n",
       "      <td>2</td>\n",
       "    </tr>\n",
       "    <tr>\n",
       "      <th>4</th>\n",
       "      <td>1</td>\n",
       "      <td>1</td>\n",
       "      <td>58293.0</td>\n",
       "      <td>33.0</td>\n",
       "      <td>376</td>\n",
       "      <td>19.0</td>\n",
       "      <td>1</td>\n",
       "      <td>0</td>\n",
       "      <td>228</td>\n",
       "      <td>3</td>\n",
       "    </tr>\n",
       "  </tbody>\n",
       "</table>\n",
       "</div>"
      ],
      "text/plain": [
       "   Education  Marital_Status   Income   Age  Amount_Total  Total_Purchases  \\\n",
       "0          1               0  58138.0  57.0          1445             25.0   \n",
       "1          1               0  46344.0  60.0            25              6.0   \n",
       "2          1               1  71613.0  49.0           665             21.0   \n",
       "3          1               1  26646.0  30.0            43              8.0   \n",
       "4          1               1  58293.0  33.0           376             19.0   \n",
       "\n",
       "   Children  Total_AcceptedCmp  Days_Active  Cluster  \n",
       "0         0                  1          914        3  \n",
       "1         2                  0           88        2  \n",
       "2         0                  0          447        3  \n",
       "3         1                  0           40        2  \n",
       "4         1                  0          228        3  "
      ]
     },
     "execution_count": 18,
     "metadata": {},
     "output_type": "execute_result"
    }
   ],
   "source": [
    "model_features.head()"
   ]
  },
  {
   "cell_type": "code",
   "execution_count": 19,
   "id": "7184a48e",
   "metadata": {
    "scrolled": false
   },
   "outputs": [
    {
     "data": {
      "text/plain": [
       "<AxesSubplot:xlabel='Cluster', ylabel='count'>"
      ]
     },
     "execution_count": 19,
     "metadata": {},
     "output_type": "execute_result"
    },
    {
     "data": {
      "image/png": "[encoded data removed]",
      "text/plain": [
       "<Figure size 432x288 with 1 Axes>"
      ]
     },
     "metadata": {
      "needs_background": "light"
     },
     "output_type": "display_data"
    }
   ],
   "source": [
    "sns.countplot(x='Cluster', data=model_features)"
   ]
  },
  {
   "cell_type": "code",
   "execution_count": 20,
   "id": "81ec1c84",
   "metadata": {
    "scrolled": false
   },
   "outputs": [
    {
     "data": {
      "image/png": "[encoded data removed]",
      "text/plain": [
       "<Figure size 1152x288 with 4 Axes>"
      ]
     },
     "metadata": {
      "needs_background": "light"
     },
     "output_type": "display_data"
    },
    {
     "data": {
      "image/png": "[encoded data removed]",
      "text/plain": [
       "<Figure size 1152x288 with 4 Axes>"
      ]
     },
     "metadata": {
      "needs_background": "light"
     },
     "output_type": "display_data"
    },
    {
     "data": {
      "image/png": "[encoded data removed]",
      "text/plain": [
       "<Figure size 1152x288 with 4 Axes>"
      ]
     },
     "metadata": {
      "needs_background": "light"
     },
     "output_type": "display_data"
    },
    {
     "data": {
      "image/png": "[encoded data removed]",
      "text/plain": [
       "<Figure size 1152x288 with 4 Axes>"
      ]
     },
     "metadata": {
      "needs_background": "light"
     },
     "output_type": "display_data"
    },
    {
     "data": {
      "image/png": "[encoded data removed]",
      "text/plain": [
       "<Figure size 1152x288 with 4 Axes>"
      ]
     },
     "metadata": {
      "needs_background": "light"
     },
     "output_type": "display_data"
    },
    {
     "data": {
      "image/png": "[encoded data removed]",
      "text/plain": [
       "<Figure size 1152x288 with 4 Axes>"
      ]
     },
     "metadata": {
      "needs_background": "light"
     },
     "output_type": "display_data"
    },
    {
     "data": {
      "image/png": "[encoded data removed]",
      "text/plain": [
       "<Figure size 1152x288 with 4 Axes>"
      ]
     },
     "metadata": {
      "needs_background": "light"
     },
     "output_type": "display_data"
    },
    {
     "data": {
      "image/png": "[encoded data removed]",
      "text/plain": [
       "<Figure size 1152x288 with 4 Axes>"
      ]
     },
     "metadata": {
      "needs_background": "light"
     },
     "output_type": "display_data"
    },
    {
     "data": {
      "image/png": "[encoded data removed]",
      "text/plain": [
       "<Figure size 1152x288 with 4 Axes>"
      ]
     },
     "metadata": {
      "needs_background": "light"
     },
     "output_type": "display_data"
    },
    {
     "data": {
      "image/png": "[encoded data removed]",
      "text/plain": [
       "<Figure size 1152x288 with 4 Axes>"
      ]
     },
     "metadata": {
      "needs_background": "light"
     },
     "output_type": "display_data"
    }
   ],
   "source": [
    "for i in model_features:\n",
    "    diag = sns.FacetGrid(model_features, col = 'Cluster', hue = 'Cluster', palette = \"Set1\", height=4)\n",
    "    diag.map(plt.hist, i, bins=10, ec=\"k\") \n",
    "    diag.set_xticklabels(rotation=30, color = 'black')"
   ]
  },
  {
   "cell_type": "markdown",
   "id": "3f383b02",
   "metadata": {},
   "source": [
    "<font size=\"4\">From this prediction, there are four types of customers: </font>\n",
    "\n",
    "<font size=\"4\">First type</font><br><br>\n",
    "<font size=\"3\">- All of them are Postgraduates</font><br>\n",
    "<font size=\"3\">- Higher number of people who are in relationship than single people</font><br>\n",
    "<font size=\"3\">- Have an approximately 20k-50k of income</font><br>\n",
    "<font size=\"3\">- Around 25 to 60 years old with the maximum around 35 to 45 years old</font><br>\n",
    "<font size=\"3\">- Bought approximately 50-400 products</font><br>\n",
    "<font size=\"3\">- Made a purchase approximately 5-20 times</font><br>\n",
    "<font size=\"3\">- Higher number of children than no child</font><br>\n",
    "<font size=\"3\">- Most of them reject the marketing campaign</font><br>\n",
    "<font size=\"3\">- Have loyalty with the company for a long period of time</font><br>\n",
    "\n",
    "<font size=\"4\">Second type</font><br><br>\n",
    "<font size=\"3\">- Slightly lower number of Postgraduates than the first type</font><br>\n",
    "<font size=\"3\">- It's the same circumstances as first type but slightly lower number of people</font><br>\n",
    "<font size=\"3\">- Have an approximately 40k-80k of income</font><br>\n",
    "<font size=\"3\">- Around 30 to 70 years old with the maximum around 45 to 60 years old</font><br>\n",
    "<font size=\"3\">- Bought approximately 500-1700 products</font><br>\n",
    "<font size=\"3\">- Made a purchase approximately 15-30 times</font><br>\n",
    "<font size=\"3\">- Slightly higher number of children than no child</font><br>\n",
    "<font size=\"3\">- Most of them reject the marketing campaign</font><br>\n",
    "<font size=\"3\">- Slightly lower number of loyal people compared to the first type</font><br>\n",
    "\n",
    "<font size=\"4\">Third type</font><br><br>\n",
    "<font size=\"3\">- Significantly lower Postgraduates than the second type</font><br>\n",
    "<font size=\"3\">- The number of people who are in relationship are slightly higher than single people</font><br>\n",
    "<font size=\"3\">- Have an approximately 70k-90k of income</font><br>\n",
    "<font size=\"3\">- Around 20 to 70 years old with the maximum around 30 to 60 years old</font><br>\n",
    "<font size=\"3\">- Bought approximately 800-2000 products</font><br>\n",
    "<font size=\"3\">- Made a purchase approximately 15-25 times</font><br>\n",
    "<font size=\"3\">- Higher number of no child than those who have children</font><br>\n",
    "<font size=\"3\">- None of them reject the marketing campaign</font><br>\n",
    "<font size=\"3\">- Significantly lower number of loyal people compared to the second type</font><br>\n",
    "\n",
    "<font size=\"4\">Fourth type</font><br><br>\n",
    "<font size=\"3\">- All of them are Undergraduates</font><br>\n",
    "<font size=\"3\">- It's the same circumstances as third type but with lower number of people</font><br>\n",
    "<font size=\"3\">- Have an approximately 15k-30k of income</font><br>\n",
    "<font size=\"3\">- Around 20 to 65 years old with the maximum around 35 to 40 years old</font><br>\n",
    "<font size=\"3\">- Bought approximately 20-100 products</font><br>\n",
    "<font size=\"3\">- Made a purchase approximately 5-10 times</font><br>\n",
    "<font size=\"3\">- Slightly higher number of children than no child</font><br>\n",
    "<font size=\"3\">- Most of them reject the marketing campaign</font><br>\n",
    "<font size=\"3\">- Least number of loyal people compared to the third type</font><br>"
   ]
  },
  {
   "cell_type": "code",
   "execution_count": null,
   "id": "56567b8a",
   "metadata": {},
   "outputs": [],
   "source": []
  }
 ],
 "metadata": {
  "kernelspec": {
   "display_name": "Python 3",
   "language": "python",
   "name": "python3"
  },
  "language_info": {
   "codemirror_mode": {
    "name": "ipython",
    "version": 3
   },
   "file_extension": ".py",
   "mimetype": "text/x-python",
   "name": "python",
   "nbconvert_exporter": "python",
   "pygments_lexer": "ipython3",
   "version": "3.8.8"
  }
 },
 "nbformat": 4,
 "nbformat_minor": 5
}
