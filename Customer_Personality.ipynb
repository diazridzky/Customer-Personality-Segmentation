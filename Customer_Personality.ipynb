{
 "cells": [
  {
   "cell_type": "markdown",
   "id": "3b6bb424",
   "metadata": {},
   "source": [
    "# Importing libraries and Inspection"
   ]
  },
  {
   "cell_type": "code",
   "execution_count": 1,
   "id": "15a579f7",
   "metadata": {},
   "outputs": [],
   "source": [
    "import pandas as pd\n",
    "import seaborn as sns\n",
    "import numpy as np\n",
    "import matplotlib.pyplot as plt\n",
    "from sklearn.preprocessing import StandardScaler\n",
    "from sklearn.cluster import KMeans  "
   ]
  },
  {
   "cell_type": "code",
   "execution_count": 2,
   "id": "56b22e0c",
   "metadata": {},
   "outputs": [],
   "source": [
    "# Importing the dataset\n",
    "df = pd.read_csv('marketing_campaign.csv', sep='\\t')"
   ]
  },
  {
   "cell_type": "code",
   "execution_count": null,
   "id": "4ca26d72",
   "metadata": {},
   "outputs": [],
   "source": [
    "# Checking the head of the dataset\n",
    "df.head()"
   ]
  },
  {
   "cell_type": "code",
   "execution_count": null,
   "id": "b7fd5ccf",
   "metadata": {
    "scrolled": false
   },
   "outputs": [],
   "source": [
    "df.info()"
   ]
  },
  {
   "cell_type": "markdown",
   "id": "2d770344",
   "metadata": {},
   "source": [
    "# Data Cleansing"
   ]
  },
  {
   "cell_type": "code",
   "execution_count": null,
   "id": "45101110",
   "metadata": {
    "scrolled": false
   },
   "outputs": [],
   "source": [
    "# Checking for null values\n",
    "df.isnull().any()"
   ]
  },
  {
   "cell_type": "code",
   "execution_count": null,
   "id": "7cd95303",
   "metadata": {},
   "outputs": [],
   "source": [
    "# Filling the null value with the average value\n",
    "df.fillna(df.mean(), inplace=True)"
   ]
  },
  {
   "cell_type": "code",
   "execution_count": null,
   "id": "076e2738",
   "metadata": {
    "scrolled": false
   },
   "outputs": [],
   "source": [
    "# Checking for null values\n",
    "df.isnull().any()"
   ]
  },
  {
   "cell_type": "markdown",
   "id": "5086b72f",
   "metadata": {},
   "source": [
    "# Feature Engineering"
   ]
  },
  {
   "cell_type": "code",
   "execution_count": null,
   "id": "f0fd5ee4",
   "metadata": {},
   "outputs": [],
   "source": [
    "# Subtract the year 2014 with the year_birth column to get the age of the customer\n",
    "df['Age'] = df['Year_Birth'].apply(lambda x: 2014-x)"
   ]
  },
  {
   "cell_type": "code",
   "execution_count": null,
   "id": "5ce850fc",
   "metadata": {},
   "outputs": [],
   "source": [
    "# Grouping the age\n",
    "def group_age(data):\n",
    "    if data > 9 and data <= 24:\n",
    "        return 'Gen Z / Zoomers (10-24)'\n",
    "    elif data > 24 and data <= 40:\n",
    "        return 'Gen Y / Millenials (25-40)'\n",
    "    elif data > 40 and data <= 56:\n",
    "        return 'Gen X (40-56)'\n",
    "    elif data > 56:\n",
    "        return 'Baby Boomers (57 and above)'\n",
    "    return 'Unspecified'\n",
    "\n",
    "df['Generation'] = df['Age'].apply(group_age)"
   ]
  },
  {
   "cell_type": "code",
   "execution_count": null,
   "id": "e0efc556",
   "metadata": {},
   "outputs": [],
   "source": [
    "# Sum up all the products bought\n",
    "df['Amount_Total'] = df['MntWines'] + df['MntFruits'] + df['MntMeatProducts'] + df['MntSweetProducts'] + df['MntGoldProds']"
   ]
  },
  {
   "cell_type": "code",
   "execution_count": null,
   "id": "994e4a5e",
   "metadata": {},
   "outputs": [],
   "source": [
    "# Sum up all the purchases made\n",
    "df['Total_Purchases'] = df['NumWebPurchases'] + df['NumCatalogPurchases'] + df['NumStorePurchases'] + df['NumDealsPurchases']"
   ]
  },
  {
   "cell_type": "code",
   "execution_count": null,
   "id": "11ab84b3",
   "metadata": {},
   "outputs": [],
   "source": [
    "# Sum up all the children the customer have\n",
    "df['Children'] = df['Kidhome'] + df['Teenhome']"
   ]
  },
  {
   "cell_type": "code",
   "execution_count": null,
   "id": "2a05248f",
   "metadata": {},
   "outputs": [],
   "source": [
    "# Checking the marital status\n",
    "df['Marital_Status'].unique()"
   ]
  },
  {
   "cell_type": "code",
   "execution_count": null,
   "id": "83f7474f",
   "metadata": {},
   "outputs": [],
   "source": [
    "# Transformed the marital status to either 'In Relationship' or 'Single'\n",
    "df['Marital_Status'] = df['Marital_Status'].apply(lambda x: 'In Relationship' if x == 'Married' or x == 'Together' else 'Single')"
   ]
  },
  {
   "cell_type": "code",
   "execution_count": null,
   "id": "6137402b",
   "metadata": {},
   "outputs": [],
   "source": [
    "# Sum up all the family members the customers have\n",
    "df['Family_Size'] =  df.apply(lambda x: x['Children'] + 2 if x['Marital_Status'] == 'In Relationship' else x['Children'] + 1, axis=1)"
   ]
  },
  {
   "cell_type": "code",
   "execution_count": null,
   "id": "23d0760a",
   "metadata": {},
   "outputs": [],
   "source": [
    "# Sum up all the marketing campaigns the customer accept\n",
    "df['Total_AcceptedCmp'] = df['AcceptedCmp1'] + df['AcceptedCmp2'] + df['AcceptedCmp3'] + df['AcceptedCmp4'] + df['AcceptedCmp5'] + df['Response']"
   ]
  },
  {
   "cell_type": "code",
   "execution_count": null,
   "id": "c9c80a36",
   "metadata": {},
   "outputs": [],
   "source": [
    "# Convert the Dt_Customer column type to datetime\n",
    "df['Dt_Customer'] = pd.to_datetime(df['Dt_Customer'])\n",
    "print(df['Dt_Customer'].min())\n",
    "print(df['Dt_Customer'].max())"
   ]
  },
  {
   "cell_type": "code",
   "execution_count": null,
   "id": "91f18c2c",
   "metadata": {},
   "outputs": [],
   "source": [
    "# It looks like the latest customer enrollment in the company was December 6, 2014 so let's assume the last time the data was\n",
    "# updated was December 7, 2014\n",
    "df['Date_Collected'] = pd.to_datetime('2014-12-07')"
   ]
  },
  {
   "cell_type": "code",
   "execution_count": null,
   "id": "71337a4d",
   "metadata": {},
   "outputs": [],
   "source": [
    "# Subtract the date collected and the date of customer's enrollment with the company\n",
    "df['Customer_Enrolled'] = (df['Date_Collected'] - df['Dt_Customer']).dt.days"
   ]
  },
  {
   "cell_type": "code",
   "execution_count": null,
   "id": "0fe5a0d9",
   "metadata": {},
   "outputs": [],
   "source": [
    "# Subtract Customer_Enrolled with recency to get how many days the customer was active\n",
    "df['Days_Active'] = df['Customer_Enrolled'] - df['Recency']"
   ]
  },
  {
   "cell_type": "code",
   "execution_count": null,
   "id": "c1c58765",
   "metadata": {},
   "outputs": [],
   "source": [
    "# Drop useless columns\n",
    "df.drop(columns=['ID', 'Year_Birth','Kidhome', 'Teenhome', 'Dt_Customer', 'Z_CostContact', 'Z_Revenue', 'Date_Collected', 'Customer_Enrolled'], axis=1, inplace=True)"
   ]
  },
  {
   "cell_type": "code",
   "execution_count": null,
   "id": "4f0d4535",
   "metadata": {
    "scrolled": false
   },
   "outputs": [],
   "source": [
    "# Checking the head of the data after feature engineering\n",
    "df.head()"
   ]
  },
  {
   "cell_type": "code",
   "execution_count": null,
   "id": "76a94114",
   "metadata": {
    "scrolled": true
   },
   "outputs": [],
   "source": [
    "# Checking for outliers\n",
    "df_dist = df[['Income', 'Recency', 'MntWines', 'MntFruits', 'MntMeatProducts', 'MntFishProducts', 'MntSweetProducts',\n",
    "       'MntGoldProds', 'NumDealsPurchases', 'NumWebPurchases', 'NumCatalogPurchases', 'NumStorePurchases', 'NumWebVisitsMonth', \n",
    "       'Age', 'Amount_Total', 'Total_Purchases', 'Children', 'Family_Size', 'Total_AcceptedCmp', 'Days_Active']]\n",
    "\n",
    "for i in df_dist.columns:\n",
    "    sns.displot(x=i, bins=30, data=df)"
   ]
  },
  {
   "cell_type": "markdown",
   "id": "94d46876",
   "metadata": {},
   "source": [
    "# Removing Outliers"
   ]
  },
  {
   "cell_type": "code",
   "execution_count": null,
   "id": "e4395a66",
   "metadata": {},
   "outputs": [],
   "source": [
    "df['Income'] = df['Income'].apply(lambda x: x if x < 120000 else np.nan)"
   ]
  },
  {
   "cell_type": "code",
   "execution_count": null,
   "id": "acb11939",
   "metadata": {},
   "outputs": [],
   "source": [
    "df['MntMeatProducts'] = df['MntMeatProducts'].apply(lambda x: x if x < 1100 else np.nan)"
   ]
  },
  {
   "cell_type": "code",
   "execution_count": null,
   "id": "6f4e012f",
   "metadata": {},
   "outputs": [],
   "source": [
    "df['NumWebPurchases'] = df['NumWebPurchases'].apply(lambda x: x if x < 15 else np.nan) "
   ]
  },
  {
   "cell_type": "code",
   "execution_count": null,
   "id": "e92a53d8",
   "metadata": {},
   "outputs": [],
   "source": [
    "df['NumCatalogPurchases'] = df['NumCatalogPurchases'].apply(lambda x: x if x < 15 else np.nan)"
   ]
  },
  {
   "cell_type": "code",
   "execution_count": null,
   "id": "0fba447e",
   "metadata": {},
   "outputs": [],
   "source": [
    "df['Total_Purchases'] = df['Total_Purchases'].apply(lambda x: x if x < 40 else np.nan) "
   ]
  },
  {
   "cell_type": "code",
   "execution_count": null,
   "id": "c402e429",
   "metadata": {},
   "outputs": [],
   "source": [
    "df['Age'] = df['Age'].apply(lambda x: x if x < 80 else np.nan) "
   ]
  },
  {
   "cell_type": "code",
   "execution_count": null,
   "id": "2f3eda77",
   "metadata": {},
   "outputs": [],
   "source": [
    "# Checking for null values\n",
    "df.isnull().any()"
   ]
  },
  {
   "cell_type": "code",
   "execution_count": null,
   "id": "989d3c98",
   "metadata": {},
   "outputs": [],
   "source": [
    "# Checking the shape\n",
    "df.shape"
   ]
  },
  {
   "cell_type": "code",
   "execution_count": null,
   "id": "11d8be90",
   "metadata": {},
   "outputs": [],
   "source": [
    "# Drop null values\n",
    "df.dropna(inplace=True)"
   ]
  },
  {
   "cell_type": "code",
   "execution_count": null,
   "id": "3e50e7aa",
   "metadata": {},
   "outputs": [],
   "source": [
    "# Checking for null values\n",
    "df.isnull().any()"
   ]
  },
  {
   "cell_type": "code",
   "execution_count": null,
   "id": "2ce6f2f7",
   "metadata": {},
   "outputs": [],
   "source": [
    "# Checking the shape\n",
    "df.shape"
   ]
  },
  {
   "cell_type": "markdown",
   "id": "8e24c5e6",
   "metadata": {},
   "source": [
    "# Data Visualization"
   ]
  },
  {
   "cell_type": "markdown",
   "id": "94499309",
   "metadata": {},
   "source": [
    "Education"
   ]
  },
  {
   "cell_type": "code",
   "execution_count": null,
   "id": "b575db8d",
   "metadata": {},
   "outputs": [],
   "source": [
    "sns.countplot(x='Education', data=df)\n",
    "plt.title('Education level of each customers')"
   ]
  },
  {
   "cell_type": "markdown",
   "id": "fed15caa",
   "metadata": {},
   "source": [
    "Marital Status"
   ]
  },
  {
   "cell_type": "code",
   "execution_count": null,
   "id": "405d716a",
   "metadata": {},
   "outputs": [],
   "source": [
    "sns.countplot(x='Marital_Status', data=df)\n",
    "plt.title('Marital Status of each customers')"
   ]
  },
  {
   "cell_type": "markdown",
   "id": "8a3c28b5",
   "metadata": {},
   "source": [
    "Place"
   ]
  },
  {
   "cell_type": "code",
   "execution_count": null,
   "id": "ab3a34c0",
   "metadata": {},
   "outputs": [],
   "source": [
    "each_place = ['NumWebPurchases','NumCatalogPurchases', 'NumStorePurchases']\n",
    "total_place = []\n",
    "[total_place.append(len(df[df[place] == 1])) for place in each_place]\n",
    "\n",
    "plt.figure(figsize=(15,5))\n",
    "sns.barplot(x=each_place, y=total_place)\n",
    "plt.title('Total purchases of each place')"
   ]
  },
  {
   "cell_type": "markdown",
   "id": "ec4af3c1",
   "metadata": {},
   "source": [
    "Products"
   ]
  },
  {
   "cell_type": "code",
   "execution_count": null,
   "id": "ca39b0d7",
   "metadata": {},
   "outputs": [],
   "source": [
    "each_prods = ['MntWines','MntFruits', 'MntMeatProducts', 'MntFishProducts', 'MntSweetProducts','MntGoldProds']\n",
    "total_prods = []\n",
    "[total_prods.append(len(df[df[prod] == 1])) for prod in each_prods]\n",
    "\n",
    "plt.figure(figsize=(15,5))\n",
    "sns.barplot(x=each_prods, y=total_prods)\n",
    "plt.title('Total amount of each products')"
   ]
  },
  {
   "cell_type": "markdown",
   "id": "01939616",
   "metadata": {},
   "source": [
    "Accepted Campaigns"
   ]
  },
  {
   "cell_type": "code",
   "execution_count": null,
   "id": "0152da68",
   "metadata": {},
   "outputs": [],
   "source": [
    "each_cmp = ['AcceptedCmp1', 'AcceptedCmp2', 'AcceptedCmp3', 'AcceptedCmp4', 'AcceptedCmp5', 'Response']\n",
    "total_cmp = []\n",
    "[total_cmp.append(len(df[df[cmp] == 1])) for cmp in each_cmp]\n",
    "\n",
    "plt.figure(figsize=(15,5))\n",
    "sns.barplot(x=each_cmp, y=total_cmp)\n",
    "plt.title('Total of Accepted Campaign offers on each Campaigns')"
   ]
  },
  {
   "cell_type": "markdown",
   "id": "b9de5074",
   "metadata": {},
   "source": [
    "Complains"
   ]
  },
  {
   "cell_type": "code",
   "execution_count": null,
   "id": "14d2ff3a",
   "metadata": {
    "scrolled": false
   },
   "outputs": [],
   "source": [
    "sns.countplot(x='Complain', data=df)\n",
    "plt.title('Total Complains')"
   ]
  },
  {
   "cell_type": "code",
   "execution_count": null,
   "id": "37825676",
   "metadata": {},
   "outputs": [],
   "source": [
    "colors = sns.color_palette('pastel')[0:5]\n",
    "Generation = df['Generation'].value_counts()\n",
    "plt.figure(figsize=(10,5))\n",
    "plt.pie(Generation, labels = Generation.index, colors = colors, autopct='%1.2f%%')\n",
    "plt.title('Generation')"
   ]
  },
  {
   "cell_type": "code",
   "execution_count": null,
   "id": "0723c669",
   "metadata": {
    "scrolled": true
   },
   "outputs": [],
   "source": [
    "# Data Distribution\n",
    "df_dist = df[['Income', 'Recency', 'MntWines', 'MntFruits', 'MntMeatProducts', 'MntFishProducts', 'MntSweetProducts',\n",
    "       'MntGoldProds', 'NumDealsPurchases', 'NumWebPurchases', 'NumCatalogPurchases', 'NumStorePurchases', 'NumWebVisitsMonth', \n",
    "       'Age', 'Amount_Total', 'Total_Purchases', 'Children', 'Family_Size', 'Total_AcceptedCmp', 'Days_Active']]\n",
    "\n",
    "for i in df_dist.columns:\n",
    "    sns.displot(x=i, bins=30, data=df)\n"
   ]
  },
  {
   "cell_type": "markdown",
   "id": "688983ca",
   "metadata": {},
   "source": [
    "Income based on Education"
   ]
  },
  {
   "cell_type": "code",
   "execution_count": null,
   "id": "8062f8f0",
   "metadata": {},
   "outputs": [],
   "source": [
    "sns.barplot(x='Education', y='Income', data=df)\n",
    "plt.title('Income based on Education')"
   ]
  },
  {
   "cell_type": "markdown",
   "id": "dd1efa16",
   "metadata": {},
   "source": [
    "Income based on Marital Status"
   ]
  },
  {
   "cell_type": "code",
   "execution_count": null,
   "id": "c3e0f84e",
   "metadata": {},
   "outputs": [],
   "source": [
    "sns.barplot(x='Marital_Status', y='Income', data=df)\n",
    "plt.title('Income based on Marital Status')"
   ]
  },
  {
   "cell_type": "markdown",
   "id": "017f306b",
   "metadata": {},
   "source": [
    "Income based on how many Children"
   ]
  },
  {
   "cell_type": "code",
   "execution_count": null,
   "id": "3c956332",
   "metadata": {},
   "outputs": [],
   "source": [
    "sns.barplot(x='Children', y='Income', data=df)\n",
    "plt.title('Income based on how many Children')"
   ]
  },
  {
   "cell_type": "markdown",
   "id": "0d1a5acd",
   "metadata": {},
   "source": [
    "Correlation between Total Purchases and Income"
   ]
  },
  {
   "cell_type": "code",
   "execution_count": null,
   "id": "fa664cc2",
   "metadata": {
    "scrolled": true
   },
   "outputs": [],
   "source": [
    "sns.scatterplot(x='Total_Purchases', y='Income', data=df)\n",
    "plt.title('Correlation between Total Purchases and Income')"
   ]
  },
  {
   "cell_type": "markdown",
   "id": "164d43c1",
   "metadata": {},
   "source": [
    "Correlation between Total Amount of products bought and Income"
   ]
  },
  {
   "cell_type": "code",
   "execution_count": null,
   "id": "e485211e",
   "metadata": {},
   "outputs": [],
   "source": [
    "sns.scatterplot(x='Amount_Total', y='Income', data=df)\n",
    "plt.title('Correlation between Total Amount of products bought and Income')"
   ]
  },
  {
   "cell_type": "markdown",
   "id": "a3a1a1d5",
   "metadata": {},
   "source": [
    "Correlation of each columns"
   ]
  },
  {
   "cell_type": "code",
   "execution_count": null,
   "id": "349fc880",
   "metadata": {},
   "outputs": [],
   "source": [
    "sns.heatmap(data=df_dist.corr(), cmap='coolwarm')\n",
    "plt.title('Correlation of each columns')"
   ]
  },
  {
   "cell_type": "markdown",
   "id": "41d6f844",
   "metadata": {},
   "source": [
    "# Data Modelling using KMeans"
   ]
  },
  {
   "cell_type": "code",
   "execution_count": null,
   "id": "04e8aa85",
   "metadata": {},
   "outputs": [],
   "source": [
    "df['Education'] = df['Education'].apply(lambda x: 0 if x == 'Basic' else 1)"
   ]
  },
  {
   "cell_type": "code",
   "execution_count": null,
   "id": "b5c4f562",
   "metadata": {},
   "outputs": [],
   "source": [
    "df['Marital_Status'] = df['Marital_Status'].apply(lambda x: 1 if x == 'In Relationship' else 0)"
   ]
  },
  {
   "cell_type": "code",
   "execution_count": null,
   "id": "e3d7a307",
   "metadata": {},
   "outputs": [],
   "source": [
    "model_features = df[['Education', 'Marital_Status', 'Income', 'Age', 'Amount_Total','Total_Purchases', \n",
    "                     'Children', 'Total_AcceptedCmp', 'Days_Active']]"
   ]
  },
  {
   "cell_type": "code",
   "execution_count": null,
   "id": "62219356",
   "metadata": {},
   "outputs": [],
   "source": [
    "scaler = StandardScaler()"
   ]
  },
  {
   "cell_type": "code",
   "execution_count": null,
   "id": "b90f27f0",
   "metadata": {},
   "outputs": [],
   "source": [
    "scaled_features = scaler.fit_transform(model_features)"
   ]
  },
  {
   "cell_type": "code",
   "execution_count": null,
   "id": "509146f8",
   "metadata": {},
   "outputs": [],
   "source": [
    "df_feat = pd.DataFrame(scaled_features,columns=model_features.columns)\n",
    "df_feat.head()"
   ]
  },
  {
   "cell_type": "code",
   "execution_count": null,
   "id": "1757c7f0",
   "metadata": {},
   "outputs": [],
   "source": [
    "X = scaled_features"
   ]
  },
  {
   "cell_type": "code",
   "execution_count": null,
   "id": "3ab3e9f3",
   "metadata": {},
   "outputs": [],
   "source": [
    "#Elbow Method - Inertia plot\n",
    "inertia = []\n",
    "#looping the inertia calculation for each k\n",
    "for k in range(1, 10):\n",
    "    #Assign KMeans as cluster_model\n",
    "    cluster_model = KMeans(n_clusters = k, random_state = 101)\n",
    "    #Fit cluster_model to X\n",
    "    cluster_model.fit(X)\n",
    "    #Get the inertia value\n",
    "    inertia_value = cluster_model.inertia_\n",
    "    #Append the inertia_value to inertia list\n",
    "    inertia.append(inertia_value)"
   ]
  },
  {
   "cell_type": "code",
   "execution_count": null,
   "id": "21386ce0",
   "metadata": {},
   "outputs": [],
   "source": [
    "##Inertia plot\n",
    "plt.plot(range(1, 10), inertia)\n",
    "plt.title('The Elbow Method - Inertia plot', fontsize = 15)\n",
    "plt.xlabel('No. of Clusters')\n",
    "plt.ylabel('Inertia')\n",
    "plt.show()"
   ]
  },
  {
   "cell_type": "code",
   "execution_count": null,
   "id": "b1f69815",
   "metadata": {},
   "outputs": [],
   "source": [
    "kmeans = KMeans(n_clusters = 4, random_state = 101)\n",
    "kmeans.fit(X)"
   ]
  },
  {
   "cell_type": "code",
   "execution_count": null,
   "id": "a474bf2b",
   "metadata": {},
   "outputs": [],
   "source": [
    "kmeans.cluster_centers_"
   ]
  },
  {
   "cell_type": "code",
   "execution_count": null,
   "id": "ecebdf2b",
   "metadata": {},
   "outputs": [],
   "source": [
    "model_features['Cluster'] = kmeans.labels_ + 1"
   ]
  },
  {
   "cell_type": "code",
   "execution_count": null,
   "id": "678f0606",
   "metadata": {},
   "outputs": [],
   "source": [
    "model_features.head()"
   ]
  },
  {
   "cell_type": "code",
   "execution_count": null,
   "id": "31018c78",
   "metadata": {},
   "outputs": [],
   "source": [
    "colors = sns.color_palette('pastel')[0:5]\n",
    "Cluster = model_features['Cluster'].value_counts()\n",
    "plt.figure(figsize=(10,5))\n",
    "plt.pie(Cluster, labels = Cluster.index, colors = colors, autopct='%.0f%%')\n",
    "plt.title('Clusters')"
   ]
  },
  {
   "cell_type": "code",
   "execution_count": null,
   "id": "81ec1c84",
   "metadata": {
    "scrolled": false
   },
   "outputs": [],
   "source": [
    "for i in model_features:\n",
    "    diag = sns.FacetGrid(model_features, col = 'Cluster', hue = 'Cluster', palette = \"Set1\", height=4)\n",
    "    diag.map(plt.hist, i, bins=10, ec=\"k\") \n",
    "    diag.set_xticklabels(rotation=30, color = 'black')"
   ]
  },
  {
   "cell_type": "markdown",
   "id": "3f383b02",
   "metadata": {},
   "source": [
    "# From this prediction, there are four types of customers\n",
    "\n",
    "# 1. 48% of customers (Majority)\n",
    "- All of them are Postgraduates\n",
    "- Higher number of people who are in relationship than single people</font><br>\n",
    "- Have an approximately 20k-50k of income\n",
    "- Around 25 to 60 years old with the maximum around 35 to 45 years old\n",
    "- Bought approximately 50-400 products\n",
    "- Made a purchase approximately 5-20 times\n",
    "- Higher number of children than no child\n",
    "- Most of them reject the marketing campaign\n",
    "- Highest number of customers who have loyalty with the company for a long period of time\n",
    "\n",
    "# 2. 38% of customers\n",
    "- Slightly lower number of Postgraduates than 48% of people\n",
    "- It's the same circumstances as 48% of people but slightly lower number of people\n",
    "- Have an approximately 40k-80k of income\n",
    "- Around 30 to 70 years old with the maximum around 45 to 60 years old\n",
    "- Bought approximately 500-1700 products\n",
    "- Made a purchase approximately 15-30 times\n",
    "- Slightly higher number of children than no child\n",
    "- Most of them reject the marketing campaign\n",
    "- Slightly lower number of loyal customers compared to 48% of customers\n",
    "\n",
    "# 3. 12% of customers\n",
    "- Significantly lower Postgraduates than the 38% of people\n",
    "- The number of people who are in relationship are slightly higher than single people\n",
    "- Have an approximately 70k-90k of income\n",
    "- Around 20 to 70 years old with the maximum around 30 to 60 years old\n",
    "- Bought approximately 800-2000 products\n",
    "- Made a purchase approximately 15-25 times\n",
    "- Higher number of no child than have children\n",
    "- None of them reject the marketing campaign\n",
    "- Significantly lower number of loyal customers compared to 38% of customers\n",
    "\n",
    "# 4. 2% of customers (Minority)\n",
    "- All of them are Undergraduates\n",
    "- It's the same circumstances as 12% of customers but with lower number\n",
    "- Have an approximately 15k-30k of income\n",
    "- Around 20 to 65 years old with the maximum around 35 to 40 years old\n",
    "- Bought approximately 20-100 products\n",
    "- Made a purchase approximately 5-10 times\n",
    "- Slightly higher number of children than no child\n",
    "- Most of them reject the marketing campaign\n",
    "- Least number of loyal customers"
   ]
  },
  {
   "cell_type": "code",
   "execution_count": null,
   "id": "7efcd4a7",
   "metadata": {},
   "outputs": [],
   "source": []
  }
 ],
 "metadata": {
  "kernelspec": {
   "display_name": "Python 3",
   "language": "python",
   "name": "python3"
  },
  "language_info": {
   "codemirror_mode": {
    "name": "ipython",
    "version": 3
   },
   "file_extension": ".py",
   "mimetype": "text/x-python",
   "name": "python",
   "nbconvert_exporter": "python",
   "pygments_lexer": "ipython3",
   "version": "3.8.8"
  }
 },
 "nbformat": 4,
 "nbformat_minor": 5
}
